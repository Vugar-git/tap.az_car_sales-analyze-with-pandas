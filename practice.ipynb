{
 "cells": [
  {
   "cell_type": "code",
   "execution_count": 1,
   "id": "c340aa7b",
   "metadata": {
    "execution": {
     "iopub.execute_input": "2024-05-22T08:06:13.187900Z",
     "iopub.status.busy": "2024-05-22T08:06:13.187534Z",
     "iopub.status.idle": "2024-05-22T08:06:14.078481Z",
     "shell.execute_reply": "2024-05-22T08:06:14.077374Z"
    },
    "papermill": {
     "duration": 0.899197,
     "end_time": "2024-05-22T08:06:14.081104",
     "exception": false,
     "start_time": "2024-05-22T08:06:13.181907",
     "status": "completed"
    },
    "tags": []
   },
   "outputs": [],
   "source": [
    "import pandas as pd\n",
    "import matplotlib.pyplot as plt"
   ]
  },
  {
   "cell_type": "code",
   "execution_count": 2,
   "id": "f0e5408a",
   "metadata": {
    "execution": {
     "iopub.execute_input": "2024-05-22T08:06:14.091809Z",
     "iopub.status.busy": "2024-05-22T08:06:14.091316Z",
     "iopub.status.idle": "2024-05-22T08:06:15.155657Z",
     "shell.execute_reply": "2024-05-22T08:06:15.154589Z"
    },
    "papermill": {
     "duration": 1.07285,
     "end_time": "2024-05-22T08:06:15.158156",
     "exception": false,
     "start_time": "2024-05-22T08:06:14.085306",
     "status": "completed"
    },
    "tags": []
   },
   "outputs": [],
   "source": [
    "df = pd.read_excel(\"/kaggle/input/cleaned-data-tapazcars-feb12-mart13/cleaned data tapazcars feb12 - mart13.xlsx\")"
   ]
  },
  {
   "cell_type": "code",
   "execution_count": 3,
   "id": "ad06eccf",
   "metadata": {
    "execution": {
     "iopub.execute_input": "2024-05-22T08:06:15.167419Z",
     "iopub.status.busy": "2024-05-22T08:06:15.166933Z",
     "iopub.status.idle": "2024-05-22T08:06:15.192885Z",
     "shell.execute_reply": "2024-05-22T08:06:15.191662Z"
    },
    "papermill": {
     "duration": 0.033099,
     "end_time": "2024-05-22T08:06:15.195161",
     "exception": false,
     "start_time": "2024-05-22T08:06:15.162062",
     "status": "completed"
    },
    "tags": []
   },
   "outputs": [
    {
     "data": {
      "text/html": [
       "<div>\n",
       "<style scoped>\n",
       "    .dataframe tbody tr th:only-of-type {\n",
       "        vertical-align: middle;\n",
       "    }\n",
       "\n",
       "    .dataframe tbody tr th {\n",
       "        vertical-align: top;\n",
       "    }\n",
       "\n",
       "    .dataframe thead th {\n",
       "        text-align: right;\n",
       "    }\n",
       "</style>\n",
       "<table border=\"1\" class=\"dataframe\">\n",
       "  <thead>\n",
       "    <tr style=\"text-align: right;\">\n",
       "      <th></th>\n",
       "      <th>Price</th>\n",
       "      <th>Car_name</th>\n",
       "      <th>Year</th>\n",
       "      <th>Location</th>\n",
       "      <th>Date</th>\n",
       "    </tr>\n",
       "  </thead>\n",
       "  <tbody>\n",
       "    <tr>\n",
       "      <th>0</th>\n",
       "      <td>400</td>\n",
       "      <td>ZAZ 968M</td>\n",
       "      <td>1986</td>\n",
       "      <td>Bakı</td>\n",
       "      <td>2024-02-25</td>\n",
       "    </tr>\n",
       "    <tr>\n",
       "      <th>1</th>\n",
       "      <td>450</td>\n",
       "      <td>Daewoo Nexia</td>\n",
       "      <td>1996</td>\n",
       "      <td>Bakı</td>\n",
       "      <td>2024-03-12</td>\n",
       "    </tr>\n",
       "    <tr>\n",
       "      <th>2</th>\n",
       "      <td>600</td>\n",
       "      <td>BMW 318</td>\n",
       "      <td>1991</td>\n",
       "      <td>Bakı</td>\n",
       "      <td>2024-03-02</td>\n",
       "    </tr>\n",
       "    <tr>\n",
       "      <th>3</th>\n",
       "      <td>600</td>\n",
       "      <td>Renault 12 Toros</td>\n",
       "      <td>1999</td>\n",
       "      <td>Bakı</td>\n",
       "      <td>2024-03-11</td>\n",
       "    </tr>\n",
       "    <tr>\n",
       "      <th>4</th>\n",
       "      <td>600</td>\n",
       "      <td>LADA (VAZ) 2106</td>\n",
       "      <td>1998</td>\n",
       "      <td>Cəlilabad</td>\n",
       "      <td>2024-03-12</td>\n",
       "    </tr>\n",
       "    <tr>\n",
       "      <th>...</th>\n",
       "      <td>...</td>\n",
       "      <td>...</td>\n",
       "      <td>...</td>\n",
       "      <td>...</td>\n",
       "      <td>...</td>\n",
       "    </tr>\n",
       "    <tr>\n",
       "      <th>7530</th>\n",
       "      <td>96000</td>\n",
       "      <td>KIA Sorento</td>\n",
       "      <td>2023</td>\n",
       "      <td>Bakı</td>\n",
       "      <td>2024-02-27</td>\n",
       "    </tr>\n",
       "    <tr>\n",
       "      <th>7531</th>\n",
       "      <td>102300</td>\n",
       "      <td>Land Rover Range Rover</td>\n",
       "      <td>2014</td>\n",
       "      <td>Bakı</td>\n",
       "      <td>2024-03-10</td>\n",
       "    </tr>\n",
       "    <tr>\n",
       "      <th>7532</th>\n",
       "      <td>106250</td>\n",
       "      <td>Land Rover Range Rover</td>\n",
       "      <td>2017</td>\n",
       "      <td>Bakı</td>\n",
       "      <td>2024-02-29</td>\n",
       "    </tr>\n",
       "    <tr>\n",
       "      <th>7533</th>\n",
       "      <td>110000</td>\n",
       "      <td>Toyota Land Cruiser</td>\n",
       "      <td>2017</td>\n",
       "      <td>Şəmkir</td>\n",
       "      <td>2024-02-24</td>\n",
       "    </tr>\n",
       "    <tr>\n",
       "      <th>7534</th>\n",
       "      <td>130000</td>\n",
       "      <td>Mercedes GLC 300</td>\n",
       "      <td>2023</td>\n",
       "      <td>Bakı</td>\n",
       "      <td>2024-03-13</td>\n",
       "    </tr>\n",
       "  </tbody>\n",
       "</table>\n",
       "<p>7535 rows × 5 columns</p>\n",
       "</div>"
      ],
      "text/plain": [
       "       Price                Car_name  Year   Location       Date\n",
       "0        400                ZAZ 968M  1986       Bakı 2024-02-25\n",
       "1        450            Daewoo Nexia  1996       Bakı 2024-03-12\n",
       "2        600                 BMW 318  1991       Bakı 2024-03-02\n",
       "3        600        Renault 12 Toros  1999       Bakı 2024-03-11\n",
       "4        600         LADA (VAZ) 2106  1998  Cəlilabad 2024-03-12\n",
       "...      ...                     ...   ...        ...        ...\n",
       "7530   96000             KIA Sorento  2023       Bakı 2024-02-27\n",
       "7531  102300  Land Rover Range Rover  2014       Bakı 2024-03-10\n",
       "7532  106250  Land Rover Range Rover  2017       Bakı 2024-02-29\n",
       "7533  110000     Toyota Land Cruiser  2017     Şəmkir 2024-02-24\n",
       "7534  130000        Mercedes GLC 300  2023       Bakı 2024-03-13\n",
       "\n",
       "[7535 rows x 5 columns]"
      ]
     },
     "execution_count": 3,
     "metadata": {},
     "output_type": "execute_result"
    }
   ],
   "source": [
    "df"
   ]
  },
  {
   "cell_type": "code",
   "execution_count": 4,
   "id": "0d095555",
   "metadata": {
    "execution": {
     "iopub.execute_input": "2024-05-22T08:06:15.205660Z",
     "iopub.status.busy": "2024-05-22T08:06:15.204717Z",
     "iopub.status.idle": "2024-05-22T08:06:15.228682Z",
     "shell.execute_reply": "2024-05-22T08:06:15.227510Z"
    },
    "papermill": {
     "duration": 0.031689,
     "end_time": "2024-05-22T08:06:15.231131",
     "exception": false,
     "start_time": "2024-05-22T08:06:15.199442",
     "status": "completed"
    },
    "tags": []
   },
   "outputs": [
    {
     "name": "stdout",
     "output_type": "stream",
     "text": [
      "<class 'pandas.core.frame.DataFrame'>\n",
      "RangeIndex: 7535 entries, 0 to 7534\n",
      "Data columns (total 5 columns):\n",
      " #   Column    Non-Null Count  Dtype         \n",
      "---  ------    --------------  -----         \n",
      " 0   Price     7535 non-null   int64         \n",
      " 1   Car_name  7535 non-null   object        \n",
      " 2   Year      7535 non-null   int64         \n",
      " 3   Location  7535 non-null   object        \n",
      " 4   Date      7535 non-null   datetime64[ns]\n",
      "dtypes: datetime64[ns](1), int64(2), object(2)\n",
      "memory usage: 294.5+ KB\n"
     ]
    }
   ],
   "source": [
    "#Kolonların tipi, sayı haqqında məlumat\n",
    "df.info()"
   ]
  },
  {
   "cell_type": "code",
   "execution_count": 5,
   "id": "3783404c",
   "metadata": {
    "execution": {
     "iopub.execute_input": "2024-05-22T08:06:15.241735Z",
     "iopub.status.busy": "2024-05-22T08:06:15.240890Z",
     "iopub.status.idle": "2024-05-22T08:06:15.251007Z",
     "shell.execute_reply": "2024-05-22T08:06:15.249972Z"
    },
    "papermill": {
     "duration": 0.017692,
     "end_time": "2024-05-22T08:06:15.253146",
     "exception": false,
     "start_time": "2024-05-22T08:06:15.235454",
     "status": "completed"
    },
    "tags": []
   },
   "outputs": [
    {
     "data": {
      "text/plain": [
       "Month\n",
       "2    3378\n",
       "3    4157\n",
       "Name: Price, dtype: int64"
      ]
     },
     "execution_count": 5,
     "metadata": {},
     "output_type": "execute_result"
    }
   ],
   "source": [
    "#Aylıq nə qədər elan yerləşdirilib\n",
    "df['Month'] = df['Date'].dt.month\n",
    "df.groupby('Month')['Price'].count()"
   ]
  },
  {
   "cell_type": "code",
   "execution_count": 6,
   "id": "1ef7afd6",
   "metadata": {
    "execution": {
     "iopub.execute_input": "2024-05-22T08:06:15.263850Z",
     "iopub.status.busy": "2024-05-22T08:06:15.263102Z",
     "iopub.status.idle": "2024-05-22T08:06:15.431255Z",
     "shell.execute_reply": "2024-05-22T08:06:15.430160Z"
    },
    "papermill": {
     "duration": 0.176203,
     "end_time": "2024-05-22T08:06:15.433686",
     "exception": false,
     "start_time": "2024-05-22T08:06:15.257483",
     "status": "completed"
    },
    "tags": []
   },
   "outputs": [
    {
     "data": {
      "text/plain": [
       "Text(0, 0.5, 'Month')"
      ]
     },
     "execution_count": 6,
     "metadata": {},
     "output_type": "execute_result"
    },
    {
     "data": {
      "image/png": "[encoded data removed]",
      "text/plain": [
       "<Figure size 600x600 with 1 Axes>"
      ]
     },
     "metadata": {},
     "output_type": "display_data"
    }
   ],
   "source": [
    "#Aylıq nə qədər elan yerləşdirilib faizlə vizualizasiya (2ci və 3cü ay) \n",
    "df.groupby('Month')['Price'].count().plot(kind='pie', figsize=(6, 6), autopct='%1.1f%%' , fontsize=12)\n",
    "plt.ylabel('Month')"
   ]
  },
  {
   "cell_type": "code",
   "execution_count": 7,
   "id": "5e5fa53b",
   "metadata": {
    "execution": {
     "iopub.execute_input": "2024-05-22T08:06:15.446046Z",
     "iopub.status.busy": "2024-05-22T08:06:15.445291Z",
     "iopub.status.idle": "2024-05-22T08:06:15.451389Z",
     "shell.execute_reply": "2024-05-22T08:06:15.450312Z"
    },
    "papermill": {
     "duration": 0.014906,
     "end_time": "2024-05-22T08:06:15.453456",
     "exception": false,
     "start_time": "2024-05-22T08:06:15.438550",
     "status": "completed"
    },
    "tags": []
   },
   "outputs": [],
   "source": [
    "#Kolonun adını dəyişmək\n",
    "df.rename(columns = {'Year':'year_of_car'},inplace=True)"
   ]
  },
  {
   "cell_type": "code",
   "execution_count": 8,
   "id": "e7bea8f9",
   "metadata": {
    "execution": {
     "iopub.execute_input": "2024-05-22T08:06:15.464902Z",
     "iopub.status.busy": "2024-05-22T08:06:15.464281Z",
     "iopub.status.idle": "2024-05-22T08:06:15.474734Z",
     "shell.execute_reply": "2024-05-22T08:06:15.473623Z"
    },
    "papermill": {
     "duration": 0.019348,
     "end_time": "2024-05-22T08:06:15.477664",
     "exception": false,
     "start_time": "2024-05-22T08:06:15.458316",
     "status": "completed"
    },
    "tags": []
   },
   "outputs": [
    {
     "name": "stdout",
     "output_type": "stream",
     "text": [
      "year_of_car\n",
      "2006    412\n",
      "2008    401\n",
      "2007    394\n",
      "1998    374\n",
      "1997    306\n",
      "1999    306\n",
      "2014    303\n",
      "2005    291\n",
      "2013    279\n",
      "2012    257\n",
      "Name: Car_name, dtype: int64\n"
     ]
    }
   ],
   "source": [
    "#İlinə görə satışda olan maşınların sayı\n",
    "count_of_cars_by_years = df.groupby('year_of_car')['Car_name'].count().sort_values(ascending=False).head(10)\n",
    "print(count_of_cars_by_years)"
   ]
  },
  {
   "cell_type": "code",
   "execution_count": 9,
   "id": "bba3fbc9",
   "metadata": {
    "execution": {
     "iopub.execute_input": "2024-05-22T08:06:15.488965Z",
     "iopub.status.busy": "2024-05-22T08:06:15.488608Z",
     "iopub.status.idle": "2024-05-22T08:06:15.775952Z",
     "shell.execute_reply": "2024-05-22T08:06:15.774775Z"
    },
    "papermill": {
     "duration": 0.295422,
     "end_time": "2024-05-22T08:06:15.778091",
     "exception": false,
     "start_time": "2024-05-22T08:06:15.482669",
     "status": "completed"
    },
    "tags": []
   },
   "outputs": [
    {
     "data": {
      "text/plain": [
       "Text(0, 0.5, 'count')"
      ]
     },
     "execution_count": 9,
     "metadata": {},
     "output_type": "execute_result"
    },
    {
     "data": {
      "image/png": "[encoded data removed]",
      "text/plain": [
       "<Figure size 640x480 with 1 Axes>"
      ]
     },
     "metadata": {},
     "output_type": "display_data"
    }
   ],
   "source": [
    "#İlinə görə satışda olan maşınların saylarının visuallaşdırılması\n",
    "count_of_cars_by_years.plot(kind = 'bar')\n",
    "plt.title('count_of_cars_by_years')\n",
    "plt.xlabel('year')\n",
    "plt.ylabel('count')"
   ]
  },
  {
   "cell_type": "code",
   "execution_count": 10,
   "id": "72945a68",
   "metadata": {
    "execution": {
     "iopub.execute_input": "2024-05-22T08:06:15.790463Z",
     "iopub.status.busy": "2024-05-22T08:06:15.790076Z",
     "iopub.status.idle": "2024-05-22T08:06:15.804763Z",
     "shell.execute_reply": "2024-05-22T08:06:15.803702Z"
    },
    "papermill": {
     "duration": 0.023512,
     "end_time": "2024-05-22T08:06:15.807004",
     "exception": false,
     "start_time": "2024-05-22T08:06:15.783492",
     "status": "completed"
    },
    "tags": []
   },
   "outputs": [
    {
     "data": {
      "text/html": [
       "<div>\n",
       "<style scoped>\n",
       "    .dataframe tbody tr th:only-of-type {\n",
       "        vertical-align: middle;\n",
       "    }\n",
       "\n",
       "    .dataframe tbody tr th {\n",
       "        vertical-align: top;\n",
       "    }\n",
       "\n",
       "    .dataframe thead th {\n",
       "        text-align: right;\n",
       "    }\n",
       "</style>\n",
       "<table border=\"1\" class=\"dataframe\">\n",
       "  <thead>\n",
       "    <tr style=\"text-align: right;\">\n",
       "      <th></th>\n",
       "      <th>Car_name</th>\n",
       "      <th>Price</th>\n",
       "    </tr>\n",
       "  </thead>\n",
       "  <tbody>\n",
       "    <tr>\n",
       "      <th>7534</th>\n",
       "      <td>Mercedes GLC 300</td>\n",
       "      <td>130000</td>\n",
       "    </tr>\n",
       "    <tr>\n",
       "      <th>7533</th>\n",
       "      <td>Toyota Land Cruiser</td>\n",
       "      <td>110000</td>\n",
       "    </tr>\n",
       "    <tr>\n",
       "      <th>7532</th>\n",
       "      <td>Land Rover Range Rover</td>\n",
       "      <td>106250</td>\n",
       "    </tr>\n",
       "    <tr>\n",
       "      <th>7531</th>\n",
       "      <td>Land Rover Range Rover</td>\n",
       "      <td>102300</td>\n",
       "    </tr>\n",
       "    <tr>\n",
       "      <th>7530</th>\n",
       "      <td>KIA Sorento</td>\n",
       "      <td>96000</td>\n",
       "    </tr>\n",
       "    <tr>\n",
       "      <th>7529</th>\n",
       "      <td>Land Rover Range Rover</td>\n",
       "      <td>96000</td>\n",
       "    </tr>\n",
       "    <tr>\n",
       "      <th>7528</th>\n",
       "      <td>Mercedes S 500</td>\n",
       "      <td>95000</td>\n",
       "    </tr>\n",
       "    <tr>\n",
       "      <th>7527</th>\n",
       "      <td>Mercedes GL 450</td>\n",
       "      <td>93000</td>\n",
       "    </tr>\n",
       "    <tr>\n",
       "      <th>7526</th>\n",
       "      <td>Lexus NX 300H</td>\n",
       "      <td>89250</td>\n",
       "    </tr>\n",
       "    <tr>\n",
       "      <th>7525</th>\n",
       "      <td>Land Rover Discovery</td>\n",
       "      <td>85000</td>\n",
       "    </tr>\n",
       "  </tbody>\n",
       "</table>\n",
       "</div>"
      ],
      "text/plain": [
       "                    Car_name   Price\n",
       "7534        Mercedes GLC 300  130000\n",
       "7533     Toyota Land Cruiser  110000\n",
       "7532  Land Rover Range Rover  106250\n",
       "7531  Land Rover Range Rover  102300\n",
       "7530             KIA Sorento   96000\n",
       "7529  Land Rover Range Rover   96000\n",
       "7528          Mercedes S 500   95000\n",
       "7527         Mercedes GL 450   93000\n",
       "7526           Lexus NX 300H   89250\n",
       "7525    Land Rover Discovery   85000"
      ]
     },
     "execution_count": 10,
     "metadata": {},
     "output_type": "execute_result"
    }
   ],
   "source": [
    "# 10 ən bahalı maşın\n",
    "df[['Car_name','Price']].sort_values('Price',ascending = False).head(10)"
   ]
  },
  {
   "cell_type": "code",
   "execution_count": 11,
   "id": "6293792d",
   "metadata": {
    "execution": {
     "iopub.execute_input": "2024-05-22T08:06:15.820091Z",
     "iopub.status.busy": "2024-05-22T08:06:15.819680Z",
     "iopub.status.idle": "2024-05-22T08:06:15.830257Z",
     "shell.execute_reply": "2024-05-22T08:06:15.828938Z"
    },
    "papermill": {
     "duration": 0.019858,
     "end_time": "2024-05-22T08:06:15.832524",
     "exception": false,
     "start_time": "2024-05-22T08:06:15.812666",
     "status": "completed"
    },
    "tags": []
   },
   "outputs": [
    {
     "name": "stdout",
     "output_type": "stream",
     "text": [
      "Location\n",
      "Bakı          4723\n",
      "Sumqayıt       395\n",
      "Gəncə          362\n",
      "Xaçmaz         149\n",
      "Quba           128\n",
      "Zaqatala        90\n",
      "Mingəçevir      86\n",
      "Şəki            84\n",
      "Lənkəran        83\n",
      "Şirvan          81\n",
      "Bərdə           72\n",
      "Qusar           68\n",
      "Masallı         61\n",
      "Cəlilabad       56\n",
      "Xırdalan        53\n",
      "Sabirabad       52\n",
      "Salyan          52\n",
      "Name: Car_name, dtype: int64\n"
     ]
    }
   ],
   "source": [
    "#saya görə ən çox elan yerləşdirən regionlar\n",
    "location_counts = df.groupby('Location')['Car_name'].count()\n",
    "filtered_locations = location_counts[location_counts > 50].sort_values(ascending=False)\n",
    "print(filtered_locations)"
   ]
  },
  {
   "cell_type": "code",
   "execution_count": 12,
   "id": "e93f74e5",
   "metadata": {
    "execution": {
     "iopub.execute_input": "2024-05-22T08:06:15.845734Z",
     "iopub.status.busy": "2024-05-22T08:06:15.845317Z",
     "iopub.status.idle": "2024-05-22T08:06:16.128250Z",
     "shell.execute_reply": "2024-05-22T08:06:16.126990Z"
    },
    "papermill": {
     "duration": 0.29221,
     "end_time": "2024-05-22T08:06:16.130507",
     "exception": false,
     "start_time": "2024-05-22T08:06:15.838297",
     "status": "completed"
    },
    "tags": []
   },
   "outputs": [
    {
     "data": {
      "text/plain": [
       "Text(0.5, 0, 'Location')"
      ]
     },
     "execution_count": 12,
     "metadata": {},
     "output_type": "execute_result"
    },
    {
     "data": {
      "image/png": "[encoded data removed]",
      "text/plain": [
       "<Figure size 640x480 with 1 Axes>"
      ]
     },
     "metadata": {},
     "output_type": "display_data"
    }
   ],
   "source": [
    "#saya görə ən çox elan yerləşdirən regionlar vizuallaşdırılması\n",
    "filtered_locations.plot(kind='bar')\n",
    "plt.ylabel('Count')\n",
    "plt.xlabel('Location')"
   ]
  },
  {
   "cell_type": "code",
   "execution_count": 13,
   "id": "0cf0b6d0",
   "metadata": {
    "execution": {
     "iopub.execute_input": "2024-05-22T08:06:16.144688Z",
     "iopub.status.busy": "2024-05-22T08:06:16.144301Z",
     "iopub.status.idle": "2024-05-22T08:06:16.454987Z",
     "shell.execute_reply": "2024-05-22T08:06:16.453714Z"
    },
    "papermill": {
     "duration": 0.320781,
     "end_time": "2024-05-22T08:06:16.457569",
     "exception": false,
     "start_time": "2024-05-22T08:06:16.136788",
     "status": "completed"
    },
    "tags": []
   },
   "outputs": [
    {
     "data": {
      "image/png": "[encoded data removed]",
      "text/plain": [
       "<Figure size 800x800 with 1 Axes>"
      ]
     },
     "metadata": {},
     "output_type": "display_data"
    }
   ],
   "source": [
    "# Yeni kolon yaradıb ən çox elanda olan avtomobillərin chartının hazırlanması\n",
    "df['Brand'] = df['Car_name'].str.split(' ').str[0]\n",
    "brand_counts = df['Brand'].value_counts().head(15)\n",
    "plt.figure(figsize=(8, 8))\n",
    "brand_counts.plot(kind='bar')\n",
    "plt.title('Distribution of Car Brands')\n",
    "plt.ylabel('Count')\n",
    "plt.show()"
   ]
  }
 ],
 "metadata": {
  "kaggle": {
   "accelerator": "none",
   "dataSources": [
    {
     "datasetId": 4591493,
     "sourceId": 7833749,
     "sourceType": "datasetVersion"
    }
   ],
   "dockerImageVersionId": 30664,
   "isGpuEnabled": false,
   "isInternetEnabled": true,
   "language": "python",
   "sourceType": "notebook"
  },
  "kernelspec": {
   "display_name": "Python 3",
   "language": "python",
   "name": "python3"
  },
  "language_info": {
   "codemirror_mode": {
    "name": "ipython",
    "version": 3
   },
   "file_extension": ".py",
   "mimetype": "text/x-python",
   "name": "python",
   "nbconvert_exporter": "python",
   "pygments_lexer": "ipython3",
   "version": "3.10.13"
  },
  "papermill": {
   "default_parameters": {},
   "duration": 6.544021,
   "end_time": "2024-05-22T08:06:16.984694",
   "environment_variables": {},
   "exception": null,
   "input_path": "__notebook__.ipynb",
   "output_path": "__notebook__.ipynb",
   "parameters": {},
   "start_time": "2024-05-22T08:06:10.440673",
   "version": "2.5.0"
  }
 },
 "nbformat": 4,
 "nbformat_minor": 5
}
